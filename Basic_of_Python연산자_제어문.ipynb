{
  "nbformat": 4,
  "nbformat_minor": 0,
  "metadata": {
    "colab": {
      "provenance": [],
      "authorship_tag": "ABX9TyNry7KnOZNH3E5EeaCGKDBo",
      "include_colab_link": true
    },
    "kernelspec": {
      "name": "python3",
      "display_name": "Python 3"
    },
    "language_info": {
      "name": "python"
    }
  },
  "cells": [
    {
      "cell_type": "markdown",
      "metadata": {
        "id": "view-in-github",
        "colab_type": "text"
      },
      "source": [
        "<a href=\"https://colab.research.google.com/github/sngyu0217/Basic-of-Python/blob/main/Basic_of_Python%EC%97%B0%EC%82%B0%EC%9E%90_%EC%A0%9C%EC%96%B4%EB%AC%B8.ipynb\" target=\"_parent\"><img src=\"https://colab.research.google.com/assets/colab-badge.svg\" alt=\"Open In Colab\"/></a>"
      ]
    },
    {
      "cell_type": "markdown",
      "source": [
        "**연산자**"
      ],
      "metadata": {
        "id": "9S7S5-jJiBbm"
      }
    },
    {
      "cell_type": "code",
      "source": [
        "#산술연산자\n",
        "print(1+2, 2-3, 3*4)\n",
        "\n",
        "new_str=\"Good\"+\" \"+\"Morning\"\n",
        "print(new_str)\n",
        "\n",
        "print(\"a\"*3)\n",
        "print(5/3) #나눗셈\n",
        "print(5//3) #몫\n",
        "print(5%3) #나머지\n",
        "print(3**2) #거듭제곱"
      ],
      "metadata": {
        "colab": {
          "base_uri": "https://localhost:8080/"
        },
        "id": "1Jyc5KLzh_Vo",
        "outputId": "af111329-008e-42e6-9421-8213fe6541de"
      },
      "execution_count": 6,
      "outputs": [
        {
          "output_type": "stream",
          "name": "stdout",
          "text": [
            "3 -1 12\n",
            "Good Morning\n",
            "aaa\n",
            "1.6666666666666667\n",
            "1\n",
            "2\n",
            "9\n"
          ]
        }
      ]
    },
    {
      "cell_type": "code",
      "source": [
        "#논리연산자\n",
        "print(True)\n",
        "print(not True)\n",
        "print(type(False))\n",
        "\n",
        "print(\"\\n\")\n",
        "\n",
        "print(True and True)\n",
        "print(True and False)\n",
        "print(False and False)\n",
        "\n",
        "print(\"\\n\")\n",
        "\n",
        "print(True or True)\n",
        "print(True or False)\n",
        "print(False or False)"
      ],
      "metadata": {
        "colab": {
          "base_uri": "https://localhost:8080/"
        },
        "id": "ja1DUQGeiBFd",
        "outputId": "11a38e6b-8748-45ae-b929-9f9158ecce87"
      },
      "execution_count": 11,
      "outputs": [
        {
          "output_type": "stream",
          "name": "stdout",
          "text": [
            "True\n",
            "False\n",
            "<class 'bool'>\n",
            "\n",
            "\n",
            "True\n",
            "False\n",
            "False\n",
            "\n",
            "\n",
            "True\n",
            "True\n",
            "False\n"
          ]
        }
      ]
    },
    {
      "cell_type": "code",
      "source": [
        "#비교연산자\n",
        "print(3==3) #'=='연산자는 '서로 같다'라는 뜻\n",
        "print(3!=3) #'!=' 연산자는 '서로 다르다'라는 뜻\n",
        "print('a'=='a')\n",
        "print('a'!='a')\n",
        "\n",
        "print(\"\\n\")\n",
        "\n",
        "print(4<6)\n",
        "print(4<=6)\n",
        "print(4>=6)\n",
        "print(4>6)\n",
        "\n",
        "print(\"\\n\")\n",
        "\n",
        "print(3<6 and 8<=8)\n",
        "print(3<6 or 8<=8)\n",
        "print(not 7<4)"
      ],
      "metadata": {
        "colab": {
          "base_uri": "https://localhost:8080/"
        },
        "id": "0prDLhzqiBHc",
        "outputId": "3b75eac3-e1c6-4723-e167-cc4c66b69a38"
      },
      "execution_count": 15,
      "outputs": [
        {
          "output_type": "stream",
          "name": "stdout",
          "text": [
            "True\n",
            "False\n",
            "True\n",
            "False\n",
            "\n",
            "\n",
            "True\n",
            "True\n",
            "False\n",
            "False\n",
            "\n",
            "\n",
            "True\n",
            "True\n",
            "True\n"
          ]
        }
      ]
    },
    {
      "cell_type": "markdown",
      "source": [
        "**제어문**"
      ],
      "metadata": {
        "id": "WUe9mAiZk1JN"
      }
    },
    {
      "cell_type": "code",
      "source": [
        "#조건문(if)"
      ],
      "metadata": {
        "id": "TicAt5XdiBJh"
      },
      "execution_count": null,
      "outputs": []
    }
  ]
}