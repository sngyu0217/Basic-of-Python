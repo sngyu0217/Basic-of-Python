{
  "nbformat": 4,
  "nbformat_minor": 0,
  "metadata": {
    "colab": {
      "provenance": [],
      "authorship_tag": "ABX9TyOBgiUf2u4Iv0dthG7bLZRa",
      "include_colab_link": true
    },
    "kernelspec": {
      "name": "python3",
      "display_name": "Python 3"
    },
    "language_info": {
      "name": "python"
    }
  },
  "cells": [
    {
      "cell_type": "markdown",
      "metadata": {
        "id": "view-in-github",
        "colab_type": "text"
      },
      "source": [
        "<a href=\"https://colab.research.google.com/github/sngyu0217/Basic-of-Python/blob/main/Basic_of_Python%EC%97%B0%EC%82%B0%EC%9E%90_%EC%A0%9C%EC%96%B4%EB%AC%B8.ipynb\" target=\"_parent\"><img src=\"https://colab.research.google.com/assets/colab-badge.svg\" alt=\"Open In Colab\"/></a>"
      ]
    },
    {
      "cell_type": "markdown",
      "source": [
        "**연산자**"
      ],
      "metadata": {
        "id": "9S7S5-jJiBbm"
      }
    },
    {
      "cell_type": "code",
      "source": [
        "#산술연산자\n",
        "print(1+2, 2-3, 3*4)\n",
        "\n",
        "new_str=\"Good\"+\" \"+\"Morning\"\n",
        "print(new_str)\n",
        "\n",
        "print(\"a\"*3)\n",
        "print(5/3) #나눗셈\n",
        "print(5//3) #몫\n",
        "print(5%3) #나머지\n",
        "print(3**2) #거듭제곱"
      ],
      "metadata": {
        "colab": {
          "base_uri": "https://localhost:8080/"
        },
        "id": "1Jyc5KLzh_Vo",
        "outputId": "af111329-008e-42e6-9421-8213fe6541de"
      },
      "execution_count": 6,
      "outputs": [
        {
          "output_type": "stream",
          "name": "stdout",
          "text": [
            "3 -1 12\n",
            "Good Morning\n",
            "aaa\n",
            "1.6666666666666667\n",
            "1\n",
            "2\n",
            "9\n"
          ]
        }
      ]
    },
    {
      "cell_type": "code",
      "source": [
        "#논리연산자\n",
        "print(True)\n",
        "print(not True)\n",
        "print(type(False))\n",
        "\n",
        "print(\"\\n\")\n",
        "\n",
        "print(True and True)\n",
        "print(True and False)\n",
        "print(False and False)\n",
        "\n",
        "print(\"\\n\")\n",
        "\n",
        "print(True or True)\n",
        "print(True or False)\n",
        "print(False or False)"
      ],
      "metadata": {
        "colab": {
          "base_uri": "https://localhost:8080/"
        },
        "id": "ja1DUQGeiBFd",
        "outputId": "11a38e6b-8748-45ae-b929-9f9158ecce87"
      },
      "execution_count": 11,
      "outputs": [
        {
          "output_type": "stream",
          "name": "stdout",
          "text": [
            "True\n",
            "False\n",
            "<class 'bool'>\n",
            "\n",
            "\n",
            "True\n",
            "False\n",
            "False\n",
            "\n",
            "\n",
            "True\n",
            "True\n",
            "False\n"
          ]
        }
      ]
    },
    {
      "cell_type": "code",
      "source": [
        "#비교연산자\n",
        "print(3==3) #'=='연산자는 '서로 같다'라는 뜻\n",
        "print(3!=3) #'!=' 연산자는 '서로 다르다'라는 뜻\n",
        "print('a'=='a')\n",
        "print('a'!='a')\n",
        "\n",
        "print(\"\\n\")\n",
        "\n",
        "print(4<6)\n",
        "print(4<=6)\n",
        "print(4>=6)\n",
        "print(4>6)\n",
        "\n",
        "print(\"\\n\")\n",
        "\n",
        "print(3<6 and 8<=8)\n",
        "print(3<6 or 8<=8)\n",
        "print(not 7<4)"
      ],
      "metadata": {
        "colab": {
          "base_uri": "https://localhost:8080/"
        },
        "id": "0prDLhzqiBHc",
        "outputId": "3b75eac3-e1c6-4723-e167-cc4c66b69a38"
      },
      "execution_count": 15,
      "outputs": [
        {
          "output_type": "stream",
          "name": "stdout",
          "text": [
            "True\n",
            "False\n",
            "True\n",
            "False\n",
            "\n",
            "\n",
            "True\n",
            "True\n",
            "False\n",
            "False\n",
            "\n",
            "\n",
            "True\n",
            "True\n",
            "True\n"
          ]
        }
      ]
    },
    {
      "cell_type": "markdown",
      "source": [
        "**제어문**"
      ],
      "metadata": {
        "id": "WUe9mAiZk1JN"
      }
    },
    {
      "cell_type": "code",
      "source": [
        "#if 조건문\n",
        "a=4\n",
        "if a%2==0:\n",
        "  print(\"a는 짝수\")\n",
        "  print(\"a는 2의 배수\")\n"
      ],
      "metadata": {
        "colab": {
          "base_uri": "https://localhost:8080/"
        },
        "id": "TicAt5XdiBJh",
        "outputId": "2988e047-2e0e-430e-c122-73b695f9e005"
      },
      "execution_count": 16,
      "outputs": [
        {
          "output_type": "stream",
          "name": "stdout",
          "text": [
            "a는 짝수\n",
            "a는 2의 배수\n"
          ]
        }
      ]
    },
    {
      "cell_type": "code",
      "source": [
        "b=3\n",
        "if b%2==0:\n",
        "  print(\"b는 짝수\")\n",
        "else:\n",
        "  print(\"b는 홀수\")\n",
        ""
      ],
      "metadata": {
        "colab": {
          "base_uri": "https://localhost:8080/"
        },
        "id": "SQq-Uzg0mlWV",
        "outputId": "3308e351-42ef-48a0-df02-8487dec6d40f"
      },
      "execution_count": 18,
      "outputs": [
        {
          "output_type": "stream",
          "name": "stdout",
          "text": [
            "b는 홀수\n"
          ]
        }
      ]
    },
    {
      "cell_type": "code",
      "source": [
        "c=0\n",
        "if c>0:\n",
        "  print(\"c는 양수\")\n",
        "elif c<0:\n",
        "  print(\"c는 음수\")\n",
        "else:\n",
        "  print(\"c는 0\")"
      ],
      "metadata": {
        "colab": {
          "base_uri": "https://localhost:8080/"
        },
        "id": "dzbbleLim1nQ",
        "outputId": "19102a39-199d-40ed-a6b8-0bb587cf30bf"
      },
      "execution_count": 17,
      "outputs": [
        {
          "output_type": "stream",
          "name": "stdout",
          "text": [
            "c는 0\n"
          ]
        }
      ]
    },
    {
      "cell_type": "code",
      "source": [
        "#for 반복문\n",
        "num_list=[1,2,3]\n",
        "for num in num_list:\n",
        "  print(num)"
      ],
      "metadata": {
        "colab": {
          "base_uri": "https://localhost:8080/"
        },
        "id": "ZpjwiQqVnNL9",
        "outputId": "57aafe05-36e9-4cd2-9c73-b94aaf9ab427"
      },
      "execution_count": 19,
      "outputs": [
        {
          "output_type": "stream",
          "name": "stdout",
          "text": [
            "1\n",
            "2\n",
            "3\n"
          ]
        }
      ]
    },
    {
      "cell_type": "code",
      "source": [
        "for num in [1,2,3]:\n",
        "  print(\"기존:\",num)\n",
        "  print(\"2배:\",num*2)\n",
        "  print(\"\\n\")"
      ],
      "metadata": {
        "colab": {
          "base_uri": "https://localhost:8080/"
        },
        "id": "I-UP9U2HnNS2",
        "outputId": "270f8c4f-3598-47bd-dc0d-46f8f0284100"
      },
      "execution_count": 21,
      "outputs": [
        {
          "output_type": "stream",
          "name": "stdout",
          "text": [
            "기존: 1\n",
            "2배: 2\n",
            "\n",
            "\n",
            "기존: 2\n",
            "2배: 4\n",
            "\n",
            "\n",
            "기존: 3\n",
            "2배: 6\n",
            "\n",
            "\n"
          ]
        }
      ]
    },
    {
      "cell_type": "code",
      "source": [
        "double=[]\n",
        "for num in [1,2,3]:\n",
        "  double.append(num*2)\n",
        "\n",
        "print(double)"
      ],
      "metadata": {
        "colab": {
          "base_uri": "https://localhost:8080/"
        },
        "id": "0bOgAcaOpij-",
        "outputId": "2c00d37e-127d-40f2-ced5-044d3d8dc9d7"
      },
      "execution_count": 22,
      "outputs": [
        {
          "output_type": "stream",
          "name": "stdout",
          "text": [
            "[2, 4, 6]\n"
          ]
        }
      ]
    },
    {
      "cell_type": "code",
      "source": [
        "#while 반복문\n",
        "num=1\n",
        "while num<4:\n",
        "  print(num)\n",
        "  num+=1 #num=num+1"
      ],
      "metadata": {
        "colab": {
          "base_uri": "https://localhost:8080/"
        },
        "id": "522E8gbXpk0w",
        "outputId": "96438f37-83c4-4589-c421-a3646e449249"
      },
      "execution_count": 24,
      "outputs": [
        {
          "output_type": "stream",
          "name": "stdout",
          "text": [
            "1\n",
            "2\n",
            "3\n"
          ]
        }
      ]
    },
    {
      "cell_type": "code",
      "source": [
        "num=1\n",
        "while num<4:\n",
        "  print(\"기존:\",num)\n",
        "  print(\"2배:\",num*2)\n",
        "  print(\"\\n\")\n",
        "  num+=1"
      ],
      "metadata": {
        "colab": {
          "base_uri": "https://localhost:8080/"
        },
        "id": "p-N3OSIkqBt2",
        "outputId": "9fb41de9-57fc-401a-8073-aec6d65ca6e7"
      },
      "execution_count": 25,
      "outputs": [
        {
          "output_type": "stream",
          "name": "stdout",
          "text": [
            "기존: 1\n",
            "2배: 2\n",
            "\n",
            "\n",
            "기존: 2\n",
            "2배: 4\n",
            "\n",
            "\n",
            "기존: 3\n",
            "2배: 6\n",
            "\n",
            "\n"
          ]
        }
      ]
    },
    {
      "cell_type": "code",
      "source": [
        "#break 명령\n",
        "num=1\n",
        "double=[]\n",
        "while True:\n",
        "  double.append(num*2)\n",
        "  if len(double)==3:\n",
        "    break\n",
        "  num+=1\n",
        "print(double)"
      ],
      "metadata": {
        "colab": {
          "base_uri": "https://localhost:8080/"
        },
        "id": "pMyA8RqYqjDU",
        "outputId": "929f7892-340b-4464-d014-394bc7ec5ce9"
      },
      "execution_count": 26,
      "outputs": [
        {
          "output_type": "stream",
          "name": "stdout",
          "text": [
            "[2, 4, 6]\n"
          ]
        }
      ]
    },
    {
      "cell_type": "code",
      "source": [
        "#continue 명령\n",
        "num_range=range(1,46)\n",
        "num_list=list(num_range)\n",
        "print(num_list)"
      ],
      "metadata": {
        "colab": {
          "base_uri": "https://localhost:8080/"
        },
        "id": "z16Spa4QqjIg",
        "outputId": "1e187e34-b364-4e31-fa79-c1f83dbbf468"
      },
      "execution_count": 27,
      "outputs": [
        {
          "output_type": "stream",
          "name": "stdout",
          "text": [
            "[1, 2, 3, 4, 5, 6, 7, 8, 9, 10, 11, 12, 13, 14, 15, 16, 17, 18, 19, 20, 21, 22, 23, 24, 25, 26, 27, 28, 29, 30, 31, 32, 33, 34, 35, 36, 37, 38, 39, 40, 41, 42, 43, 44, 45]\n"
          ]
        }
      ]
    },
    {
      "cell_type": "code",
      "source": [
        "import random\n",
        "random.shuffle(num_list) #shuffle 함수는 입력받은 배열의 순서를 랜덤하게 섞는다\n",
        "print(num_list)"
      ],
      "metadata": {
        "colab": {
          "base_uri": "https://localhost:8080/"
        },
        "id": "F68g_Xs7qjLc",
        "outputId": "c49bfb1c-57d0-4644-b160-80e3974a81d4"
      },
      "execution_count": 28,
      "outputs": [
        {
          "output_type": "stream",
          "name": "stdout",
          "text": [
            "[34, 10, 8, 7, 17, 13, 19, 6, 39, 4, 9, 3, 31, 16, 11, 1, 28, 24, 26, 37, 20, 44, 14, 35, 42, 33, 15, 36, 2, 38, 32, 22, 21, 23, 12, 30, 25, 41, 43, 27, 18, 45, 40, 5, 29]\n"
          ]
        }
      ]
    },
    {
      "cell_type": "code",
      "source": [
        "lotto=[]\n",
        "while len(lotto)<6:\n",
        "  random.shuffle(num_list)\n",
        "  num_selected=num_list[0]\n",
        "  if num_selected in lotto:\n",
        "    continue\n",
        "  lotto.append(num_selected)\n",
        "  print(num_selected)\n",
        "\n",
        "print(lotto)"
      ],
      "metadata": {
        "colab": {
          "base_uri": "https://localhost:8080/"
        },
        "id": "PM2NeWrcqjNv",
        "outputId": "4859ff15-2a9c-4df1-c6a3-bf4f862b1149"
      },
      "execution_count": 30,
      "outputs": [
        {
          "output_type": "stream",
          "name": "stdout",
          "text": [
            "8\n",
            "2\n",
            "16\n",
            "23\n",
            "39\n",
            "9\n",
            "[8, 2, 16, 23, 39, 9]\n"
          ]
        }
      ]
    },
    {
      "cell_type": "code",
      "source": [
        "#예외처리(try~except)\n",
        "data={'name':'Jay','age':20,'grade':[3.0,4.0,3.5,4.2]}\n",
        "\n",
        "try:\n",
        "  print(\"이름\",data['name'])\n",
        "except:\n",
        "  print(\"주소 정보가 없습니다\")\n",
        "finally:\n",
        "  print(\"모든 작업이 완료되었습니다\")"
      ],
      "metadata": {
        "colab": {
          "base_uri": "https://localhost:8080/"
        },
        "id": "ySZ3nJWHr91f",
        "outputId": "4aa2c77a-28ef-4c63-fdbe-38a13da0508d"
      },
      "execution_count": 32,
      "outputs": [
        {
          "output_type": "stream",
          "name": "stdout",
          "text": [
            "이름 Jay\n",
            "모든 작업이 완료되었습니다\n"
          ]
        }
      ]
    }
  ]
}