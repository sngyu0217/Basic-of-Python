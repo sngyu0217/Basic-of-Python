{
  "nbformat": 4,
  "nbformat_minor": 0,
  "metadata": {
    "colab": {
      "provenance": [],
      "authorship_tag": "ABX9TyO57O4h4bS7KcbGEE7y+DAP",
      "include_colab_link": true
    },
    "kernelspec": {
      "name": "python3",
      "display_name": "Python 3"
    },
    "language_info": {
      "name": "python"
    }
  },
  "cells": [
    {
      "cell_type": "markdown",
      "metadata": {
        "id": "view-in-github",
        "colab_type": "text"
      },
      "source": [
        "<a href=\"https://colab.research.google.com/github/sngyu0217/Basic-of-Python/blob/main/Basic_of_Python%EC%9E%90%EB%A3%8C%ED%98%95.ipynb\" target=\"_parent\"><img src=\"https://colab.research.google.com/assets/colab-badge.svg\" alt=\"Open In Colab\"/></a>"
      ]
    },
    {
      "cell_type": "markdown",
      "source": [
        "**숫자형**"
      ],
      "metadata": {
        "id": "-Rmm2cyDECvK"
      }
    },
    {
      "cell_type": "code",
      "execution_count": 22,
      "metadata": {
        "colab": {
          "base_uri": "https://localhost:8080/"
        },
        "id": "lD-VcIN6DrTJ",
        "outputId": "8aebc81b-5859-49b4-cada-28a8d0311aec"
      },
      "outputs": [
        {
          "output_type": "stream",
          "name": "stdout",
          "text": [
            "<class 'int'>\n",
            "<class 'float'>\n"
          ]
        }
      ],
      "source": [
        "var1=10\n",
        "var2=3.14\n",
        "print(type(var1))\n",
        "print(type(var2))"
      ]
    },
    {
      "cell_type": "code",
      "source": [
        "var3=1+2\n",
        "var4=3+0.14\n",
        "print(type(var3))\n",
        "print(type(var4))"
      ],
      "metadata": {
        "colab": {
          "base_uri": "https://localhost:8080/"
        },
        "id": "fE_PNHtwEjjQ",
        "outputId": "93b05b08-e52d-4af7-c7fa-0cde7af303b6"
      },
      "execution_count": 3,
      "outputs": [
        {
          "output_type": "stream",
          "name": "stdout",
          "text": [
            "<class 'int'>\n",
            "<class 'float'>\n"
          ]
        }
      ]
    },
    {
      "cell_type": "markdown",
      "source": [
        "**문자열**"
      ],
      "metadata": {
        "id": "eWzG7fnZEMsR"
      }
    },
    {
      "cell_type": "code",
      "source": [
        "str1=\"Easy\"\n",
        "str1"
      ],
      "metadata": {
        "colab": {
          "base_uri": "https://localhost:8080/",
          "height": 35
        },
        "id": "COnvPUHwEPtA",
        "outputId": "626ece92-833f-450a-d418-bda5656bb7fe"
      },
      "execution_count": 17,
      "outputs": [
        {
          "output_type": "execute_result",
          "data": {
            "text/plain": [
              "'Easy'"
            ],
            "application/vnd.google.colaboratory.intrinsic+json": {
              "type": "string"
            }
          },
          "metadata": {},
          "execution_count": 17
        }
      ]
    },
    {
      "cell_type": "code",
      "source": [
        "print(type(str1))\n",
        "str2='파이썬 머신리닝'\n",
        "print('str2 :',str2)"
      ],
      "metadata": {
        "colab": {
          "base_uri": "https://localhost:8080/"
        },
        "id": "BlkYuwcgEitS",
        "outputId": "7c19236b-1331-4838-e365-3087424cc9d6"
      },
      "execution_count": 20,
      "outputs": [
        {
          "output_type": "stream",
          "name": "stdout",
          "text": [
            "<class 'str'>\n",
            "str2 : 파이썬 머신리닝\n"
          ]
        }
      ]
    },
    {
      "cell_type": "code",
      "source": [
        "str3='ver1.0'\n",
        "print(type(str3))\n",
        "print(len(str1))"
      ],
      "metadata": {
        "colab": {
          "base_uri": "https://localhost:8080/"
        },
        "id": "bGcA8zoAFD0C",
        "outputId": "6e738881-622f-432e-88e4-b0976f452f41"
      },
      "execution_count": 16,
      "outputs": [
        {
          "output_type": "stream",
          "name": "stdout",
          "text": [
            "<class 'str'>\n",
            "4\n"
          ]
        }
      ]
    },
    {
      "cell_type": "markdown",
      "source": [
        "**E / a / s / y**\n",
        "\n",
        "**0 / 1 / 2 / 3**"
      ],
      "metadata": {
        "id": "gYGjw4NWFe0r"
      }
    },
    {
      "cell_type": "code",
      "source": [
        "print(str1[0])\n",
        "print(str1[3])"
      ],
      "metadata": {
        "colab": {
          "base_uri": "https://localhost:8080/"
        },
        "id": "aQpx-jhIFaUx",
        "outputId": "0a545241-9586-4b43-936b-27ab7e5fc122"
      },
      "execution_count": 15,
      "outputs": [
        {
          "output_type": "stream",
          "name": "stdout",
          "text": [
            "E\n",
            "y\n"
          ]
        }
      ]
    },
    {
      "cell_type": "markdown",
      "source": [
        "**E / a / s / y**\n",
        "\n",
        "**-4 / -3 / -2 / -1**"
      ],
      "metadata": {
        "id": "eBuMxx00GFFd"
      }
    },
    {
      "cell_type": "code",
      "source": [
        "print(str1[-1])\n",
        "print(str1[-3])"
      ],
      "metadata": {
        "id": "eMyjT-aYF8dU"
      },
      "execution_count": null,
      "outputs": []
    },
    {
      "cell_type": "code",
      "source": [
        "print(str[0:3])\n",
        "print(str1[-3:-1])\n",
        "print(str1[-3:])\n",
        "#끝 인덱스를 지정하지 않으면 끝 인덱스 위치에 해당하는 문자까지 포함된다"
      ],
      "metadata": {
        "id": "9nkIWGCBFagd"
      },
      "execution_count": null,
      "outputs": []
    },
    {
      "cell_type": "code",
      "source": [
        "str4=\"%s 파이썬\" %str1 #str1='Easy'\n",
        "str4"
      ],
      "metadata": {
        "colab": {
          "base_uri": "https://localhost:8080/",
          "height": 35
        },
        "id": "7jfJwf_9Hj2R",
        "outputId": "7408e7dc-3d61-44ac-c96c-e92293a548f6"
      },
      "execution_count": 21,
      "outputs": [
        {
          "output_type": "execute_result",
          "data": {
            "text/plain": [
              "'Easy 파이썬'"
            ],
            "application/vnd.google.colaboratory.intrinsic+json": {
              "type": "string"
            }
          },
          "metadata": {},
          "execution_count": 21
        }
      ]
    },
    {
      "cell_type": "markdown",
      "source": [
        "**리스트**"
      ],
      "metadata": {
        "id": "hhqbQ52AISen"
      }
    },
    {
      "cell_type": "code",
      "source": [
        "list1=[1,2,3,4,5]\n",
        "type(list1)"
      ],
      "metadata": {
        "colab": {
          "base_uri": "https://localhost:8080/"
        },
        "id": "TZ1sE7KCIXwv",
        "outputId": "284c5f34-bbcd-47b3-a58f-efa5a234090c"
      },
      "execution_count": 24,
      "outputs": [
        {
          "output_type": "execute_result",
          "data": {
            "text/plain": [
              "list"
            ]
          },
          "metadata": {},
          "execution_count": 24
        }
      ]
    },
    {
      "cell_type": "code",
      "source": [
        "list2=[20]\n",
        "print(list2)\n",
        "print(type(list2))"
      ],
      "metadata": {
        "colab": {
          "base_uri": "https://localhost:8080/"
        },
        "id": "ELDtXeCoIX9L",
        "outputId": "906625b8-ddde-48c9-cd72-b152e8555ebf"
      },
      "execution_count": 25,
      "outputs": [
        {
          "output_type": "stream",
          "name": "stdout",
          "text": [
            "[20]\n",
            "<class 'list'>\n"
          ]
        }
      ]
    },
    {
      "cell_type": "code",
      "source": [
        "list3=list() #list 함수는 배열을 입력받아 리스트로 변환해 주는 명령이다.\n",
        "print(list3)\n",
        "list4=[]\n",
        "print(list4) #대괄호만 입력하는 방법으로 빈 리스트를 만들 수 있다."
      ],
      "metadata": {
        "colab": {
          "base_uri": "https://localhost:8080/"
        },
        "id": "2XP2AxxCIX_j",
        "outputId": "7e77ffe6-7d8c-4e6c-8745-a5e23c64f84a"
      },
      "execution_count": 27,
      "outputs": [
        {
          "output_type": "stream",
          "name": "stdout",
          "text": [
            "[]\n",
            "[]\n"
          ]
        }
      ]
    },
    {
      "cell_type": "code",
      "source": [
        "list_of_list=[list1,list2,list3]\n",
        "print(list_of_list)\n",
        "print(type(list_of_list))"
      ],
      "metadata": {
        "colab": {
          "base_uri": "https://localhost:8080/"
        },
        "id": "5WCIcZ8AIYCW",
        "outputId": "2e259a92-c719-4a8e-c78b-f3d973d3c9c3"
      },
      "execution_count": 31,
      "outputs": [
        {
          "output_type": "stream",
          "name": "stdout",
          "text": [
            "[[1, 2, 3, 4, 5], [20], []]\n",
            "<class 'list'>\n"
          ]
        }
      ]
    },
    {
      "cell_type": "code",
      "source": [
        "print(list_of_list[0])\n",
        "print(list_of_list[0][1])\n",
        "print(list_of_list[-1])\n",
        "print(list_of_list[-3])"
      ],
      "metadata": {
        "colab": {
          "base_uri": "https://localhost:8080/"
        },
        "id": "hmfcly6kJlLL",
        "outputId": "ba21d28a-d5ca-4ca6-e6f4-8d79be7528c7"
      },
      "execution_count": 32,
      "outputs": [
        {
          "output_type": "stream",
          "name": "stdout",
          "text": [
            "[1, 2, 3, 4, 5]\n",
            "2\n",
            "[]\n",
            "[1, 2, 3, 4, 5]\n"
          ]
        }
      ]
    },
    {
      "cell_type": "markdown",
      "source": [
        "# 새 섹션"
      ],
      "metadata": {
        "id": "0N4yb7xSNCxo"
      }
    }
  ]
}