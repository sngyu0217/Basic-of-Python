{
  "nbformat": 4,
  "nbformat_minor": 0,
  "metadata": {
    "colab": {
      "provenance": [],
      "authorship_tag": "ABX9TyN6RNG096srCI2MrDKGpPWE",
      "include_colab_link": true
    },
    "kernelspec": {
      "name": "python3",
      "display_name": "Python 3"
    },
    "language_info": {
      "name": "python"
    }
  },
  "cells": [
    {
      "cell_type": "markdown",
      "metadata": {
        "id": "view-in-github",
        "colab_type": "text"
      },
      "source": [
        "<a href=\"https://colab.research.google.com/github/sngyu0217/Basic-of-Python/blob/main/Basic_of_Python%ED%95%A8%EC%88%98_%ED%81%B4%EB%9E%98%EC%8A%A4.ipynb\" target=\"_parent\"><img src=\"https://colab.research.google.com/assets/colab-badge.svg\" alt=\"Open In Colab\"/></a>"
      ]
    },
    {
      "cell_type": "markdown",
      "source": [
        "**함수**"
      ],
      "metadata": {
        "id": "JBD-7AMut04n"
      }
    },
    {
      "cell_type": "code",
      "execution_count": 5,
      "metadata": {
        "colab": {
          "base_uri": "https://localhost:8080/"
        },
        "id": "sk1zR2qEtseK",
        "outputId": "a145a5b9-873a-4496-9efc-986cddf73d35"
      },
      "outputs": [
        {
          "output_type": "execute_result",
          "data": {
            "text/plain": [
              "2"
            ]
          },
          "metadata": {},
          "execution_count": 5
        }
      ],
      "source": [
        "def cal_modulo(a,b): #나머지 값을 return하는 함수\n",
        "  temp=a%b\n",
        "  return temp\n",
        "\n",
        "cal_modulo(5,3)"
      ]
    },
    {
      "cell_type": "code",
      "source": [
        "modulo=cal_modulo(10,3)\n",
        "print(modulo)"
      ],
      "metadata": {
        "colab": {
          "base_uri": "https://localhost:8080/"
        },
        "id": "_qn3nTMLuPss",
        "outputId": "361b3c81-fe65-41b6-9dc9-361aa5964062"
      },
      "execution_count": 3,
      "outputs": [
        {
          "output_type": "stream",
          "name": "stdout",
          "text": [
            "1\n"
          ]
        }
      ]
    },
    {
      "cell_type": "code",
      "source": [
        "num_pairs=[(5,3),(2,2),(10,3)]\n",
        "for a,b in num_pairs:\n",
        "  modulo=cal_modulo(a,b)\n",
        "  print(modulo)"
      ],
      "metadata": {
        "colab": {
          "base_uri": "https://localhost:8080/"
        },
        "id": "maJq1rrUuQkk",
        "outputId": "59ca4493-c563-4f1a-b0a9-e43accf9500c"
      },
      "execution_count": 4,
      "outputs": [
        {
          "output_type": "stream",
          "name": "stdout",
          "text": [
            "2\n",
            "0\n",
            "1\n"
          ]
        }
      ]
    },
    {
      "cell_type": "code",
      "source": [
        "def cal_pairs_modulo(num_pairs_list):\n",
        "  result={}\n",
        "  for a,b in num_pairs:\n",
        "    modulo=a%b\n",
        "    result[(a,b)]=modulo\n",
        "  return result\n",
        "\n",
        "mod_pairs=cal_pairs_modulo(num_pairs)\n",
        "mod_pairs"
      ],
      "metadata": {
        "colab": {
          "base_uri": "https://localhost:8080/"
        },
        "id": "Gs63cYoxuQm6",
        "outputId": "56bc3db3-590d-4fb3-f63c-65bbb20911a5"
      },
      "execution_count": 6,
      "outputs": [
        {
          "output_type": "execute_result",
          "data": {
            "text/plain": [
              "{(5, 3): 2, (2, 2): 0, (10, 3): 1}"
            ]
          },
          "metadata": {},
          "execution_count": 6
        }
      ]
    },
    {
      "cell_type": "code",
      "source": [
        "def print_mod_pairs():\n",
        "  print(cal_pairs_modulo(num_pairs))\n",
        "\n",
        "print_mod_pairs()"
      ],
      "metadata": {
        "colab": {
          "base_uri": "https://localhost:8080/"
        },
        "id": "FNJB9193uQpI",
        "outputId": "4f8ea5b5-280f-4eda-a2f4-584f2f29525e"
      },
      "execution_count": 7,
      "outputs": [
        {
          "output_type": "stream",
          "name": "stdout",
          "text": [
            "{(5, 3): 2, (2, 2): 0, (10, 3): 1}\n"
          ]
        }
      ]
    },
    {
      "cell_type": "code",
      "source": [
        "#람다(lamㅠda)함수\n",
        "def add_one(num):\n",
        "  return num+1\n",
        "\n",
        "answer=add_one(1)\n",
        "print(answer)"
      ],
      "metadata": {
        "colab": {
          "base_uri": "https://localhost:8080/"
        },
        "id": "g_RoboFbuQrl",
        "outputId": "a70dc026-fc3a-46c2-e292-cd129baa210c"
      },
      "execution_count": 8,
      "outputs": [
        {
          "output_type": "stream",
          "name": "stdout",
          "text": [
            "2\n"
          ]
        }
      ]
    },
    {
      "cell_type": "code",
      "source": [
        "add_one_list=[]\n",
        "for x in [1,2,3]:\n",
        "  y=add_one(x)\n",
        "  add_one_list.append(y)\n",
        "\n",
        "print(add_one_list)"
      ],
      "metadata": {
        "colab": {
          "base_uri": "https://localhost:8080/"
        },
        "id": "ryMSAAKsuQvx",
        "outputId": "24038c03-f336-46ef-c1eb-13389646f66d"
      },
      "execution_count": 10,
      "outputs": [
        {
          "output_type": "stream",
          "name": "stdout",
          "text": [
            "[2, 3, 4]\n"
          ]
        }
      ]
    },
    {
      "cell_type": "code",
      "source": [
        "add_one_lambda=[]\n",
        "add_func=lambda x:add_one_lambda.append(x+1)\n",
        "for x in [1,2,3]:\n",
        "  add_func(x)\n",
        "\n",
        "print(add_one_lambda)"
      ],
      "metadata": {
        "colab": {
          "base_uri": "https://localhost:8080/"
        },
        "id": "UJPdJncjuQx9",
        "outputId": "4ee24731-b0d5-4d94-dfec-99c90043216b"
      },
      "execution_count": 11,
      "outputs": [
        {
          "output_type": "stream",
          "name": "stdout",
          "text": [
            "[2, 3, 4]\n"
          ]
        }
      ]
    },
    {
      "cell_type": "code",
      "source": [
        "new_add_func=lambda x,y:x+y\n",
        "answer=new_add_func(2,3)\n",
        "print(answer)"
      ],
      "metadata": {
        "colab": {
          "base_uri": "https://localhost:8080/"
        },
        "id": "_gRKA6vFuQz7",
        "outputId": "ed5c5836-df06-457d-c6fb-b74f0b10779f"
      },
      "execution_count": 12,
      "outputs": [
        {
          "output_type": "stream",
          "name": "stdout",
          "text": [
            "5\n"
          ]
        }
      ]
    },
    {
      "cell_type": "markdown",
      "source": [
        "**파이썬 내장함수**"
      ],
      "metadata": {
        "id": "-jHORkDpyg7Q"
      }
    },
    {
      "cell_type": "code",
      "source": [
        "#sum 함수,len 함수"
      ],
      "metadata": {
        "id": "OL9qKXv_uQ2S"
      },
      "execution_count": null,
      "outputs": []
    },
    {
      "cell_type": "code",
      "source": [
        "#max 함수, min함수"
      ],
      "metadata": {
        "id": "5VpInCPeuP1r"
      },
      "execution_count": null,
      "outputs": []
    },
    {
      "cell_type": "code",
      "source": [
        "#enumerate 함수"
      ],
      "metadata": {
        "id": "PA0reDuBuP4C"
      },
      "execution_count": null,
      "outputs": []
    },
    {
      "cell_type": "code",
      "source": [
        "#range 함수"
      ],
      "metadata": {
        "id": "vBTcYgUUuP6g"
      },
      "execution_count": null,
      "outputs": []
    },
    {
      "cell_type": "code",
      "source": [
        "#list 함수, eval 함수"
      ],
      "metadata": {
        "id": "buwQz4u6uP81"
      },
      "execution_count": null,
      "outputs": []
    },
    {
      "cell_type": "code",
      "source": [
        "#map 함수"
      ],
      "metadata": {
        "id": "hhwjlquwy_PY"
      },
      "execution_count": null,
      "outputs": []
    },
    {
      "cell_type": "code",
      "source": [
        "#filter 함수"
      ],
      "metadata": {
        "id": "ulJ5VaJ5y_RO"
      },
      "execution_count": null,
      "outputs": []
    },
    {
      "cell_type": "code",
      "source": [
        "#int 함수, str 함수, round 함수"
      ],
      "metadata": {
        "id": "1BJzUStZy_Tl"
      },
      "execution_count": null,
      "outputs": []
    },
    {
      "cell_type": "code",
      "source": [
        "#reversed 함수, sorted 함수, zip 함수"
      ],
      "metadata": {
        "id": "XnE1ivK0y_Va"
      },
      "execution_count": null,
      "outputs": []
    },
    {
      "cell_type": "markdown",
      "source": [
        "**클래스**"
      ],
      "metadata": {
        "id": "TvrRC6RCzSjD"
      }
    },
    {
      "cell_type": "code",
      "source": [],
      "metadata": {
        "id": "trXBuZzJy_XQ"
      },
      "execution_count": null,
      "outputs": []
    }
  ]
}